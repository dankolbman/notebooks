{
 "cells": [
  {
   "cell_type": "code",
   "execution_count": 131,
   "metadata": {
    "collapsed": false
   },
   "outputs": [],
   "source": [
    "import os\n",
    "import numpy as np\n",
    "import matplotlib.pyplot as plt\n",
    "import seaborn as sns\n",
    "%matplotlib inline\n",
    "import mido\n",
    "\n",
    "import theano\n",
    "import theano.tensor as T\n",
    "from theano.tensor.shared_randomstreams import RandomStreams"
   ]
  },
  {
   "cell_type": "code",
   "execution_count": 132,
   "metadata": {
    "collapsed": false
   },
   "outputs": [],
   "source": [
    "class MidiSong:\n",
    "    def __init__(self, filename, r=(40, 109), dt=0.1):\n",
    "        ''' Initializes a song by reading in the midi file and\n",
    "        creating a pianoroll from it\n",
    "        \n",
    "        filename: filename\n",
    "        r: pitch range\n",
    "        dt: time resolution\n",
    "        '''\n",
    "        midi = mido.MidiFile(filename)\n",
    "        self.notes = []\n",
    "        time = 0.0\n",
    "        on_notes = {}\n",
    "        for msg in midi:\n",
    "            # time in ticks\n",
    "            time += msg.time\n",
    "            if not isinstance(msg, mido.MetaMessage):\n",
    "                if msg.type == 'note_on':\n",
    "                    on_notes[msg.note] = time\n",
    "                elif (msg.type == 'note_off'\n",
    "                    and msg.note in on_notes\n",
    "                    and on_notes[msg.note] > 0.0):\n",
    "                    self.notes.append([msg.note, on_notes[msg.note], time])\n",
    "                    on_notes[msg.note] = -1.0\n",
    "        # Create the pianoroll\n",
    "        dur = np.array(self.notes).max(axis=0)[2] / dt\n",
    "        self.piano_roll = np.zeros( (int(np.ceil(dur)), r[1]-r[0]) )\n",
    "        # Resolves each note into a key and time slice in the pianoroll\n",
    "        for n in self.notes:\n",
    "             self.piano_roll[int(np.ceil(n[1]/dt)):\n",
    "                             int(np.ceil(n[2]/dt)), int(n[0]-r[0])] = 1.0"
   ]
  },
  {
   "cell_type": "code",
   "execution_count": 128,
   "metadata": {
    "collapsed": false,
    "scrolled": true
   },
   "outputs": [],
   "source": [
    "song1 = MidiSong('processed/riemenschneider001.mid')\n",
    "song2 = MidiSong('processed/riemenschneider002.mid')"
   ]
  },
  {
   "cell_type": "code",
   "execution_count": 129,
   "metadata": {
    "collapsed": false
   },
   "outputs": [
    {
     "data": {
      "image/png": "[encoded data removed]",
      "text/plain": [
       "<matplotlib.figure.Figure at 0x7f6a5d84d5f8>"
      ]
     },
     "metadata": {},
     "output_type": "display_data"
    }
   ],
   "source": [
    "f, ax = plt.subplots(1,2, figsize=(5,10))\n",
    "ax[0].imshow(song1.piano_roll, interpolation='nearest')\n",
    "plt.grid('off')\n",
    "ax[1].imshow(song2.piano_roll, interpolation='nearest')\n",
    "plt.grid('off')\n",
    "plt.show()"
   ]
  },
  {
   "cell_type": "code",
   "execution_count": 139,
   "metadata": {
    "collapsed": false
   },
   "outputs": [
    {
     "name": "stdout",
     "output_type": "stream",
     "text": [
      "fail on riemenschneider006.mid\n",
      "fail on riemenschneider008.mid\n",
      "fail on riemenschneider015.mid\n"
     ]
    }
   ],
   "source": [
    "data = []\n",
    "for f in os.listdir('processed/'):\n",
    "    if f.endswith('.mid'):\n",
    "        try:\n",
    "            data.append( MidiSong(os.path.join('processed/', f)) )\n",
    "        except KeyError:\n",
    "            print('fail on', f)"
   ]
  },
  {
   "cell_type": "code",
   "execution_count": null,
   "metadata": {
    "collapsed": true
   },
   "outputs": [],
   "source": []
  },
  {
   "cell_type": "code",
   "execution_count": null,
   "metadata": {
    "collapsed": true
   },
   "outputs": [],
   "source": [
    "epochs = 200\n",
    "batch_size = 100\n",
    "\n",
    "for epoch in range(epochs):\n",
    "    np.random.shuffle(data)\n",
    "    # Iterate through each song's pianoroll\n",
    "    for s, proll in enumerate(data):\n",
    "        # Chunk it into batches\n",
    "        for i in range(0, len(proll), batch_size):\n",
    "            cost = train()"
   ]
  }
 ],
 "metadata": {
  "kernelspec": {
   "display_name": "Python 3",
   "language": "python",
   "name": "python3"
  },
  "language_info": {
   "codemirror_mode": {
    "name": "ipython",
    "version": 3
   },
   "file_extension": ".py",
   "mimetype": "text/x-python",
   "name": "python",
   "nbconvert_exporter": "python",
   "pygments_lexer": "ipython3",
   "version": "3.5.0"
  }
 },
 "nbformat": 4,
 "nbformat_minor": 0
}
