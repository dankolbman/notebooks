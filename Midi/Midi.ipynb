{
 "cells": [
  {
   "cell_type": "markdown",
   "metadata": {},
   "source": [
    "## Instructions\n",
    "\n",
    "### Fluidsynth\n",
    "make sure that fluidsynth is set up and running as an ALSA daemon\n",
    "\n",
    "In `/etc/conf.d/fluidsynth`:\n",
    "\n",
    "    SOUND_FONT=/usr/share/soundfonts/FluidR3_GM2-2.sf2\n",
    "    AUDIO_DRIVER=alsa\n",
    "    OTHER_OPTS='-is -g 4 -m alsa_seq -r 48000'\n",
    "    \n",
    "and start the service:\n",
    "\n",
    "    systemctl start fluidsynth.service\n",
    "    \n",
    "    \n",
    "### mido\n",
    "portmidi should be installed to correctly open up midi ports using mido"
   ]
  },
  {
   "cell_type": "code",
   "execution_count": 1,
   "metadata": {
    "collapsed": true
   },
   "outputs": [],
   "source": [
    "import os, time\n",
    "import mido\n",
    "import numpy as np"
   ]
  },
  {
   "cell_type": "code",
   "execution_count": 2,
   "metadata": {
    "collapsed": true
   },
   "outputs": [],
   "source": [
    "def fs_play(fname, vol=2):\n",
    "    print('playing midi')\n",
    "    os.system('fluidsynth -a alsa -m alsa_seq -g {} -l -i /usr/share/soundfonts/FluidR3_GM2-2.sf2 {}'.format(vol, fname))"
   ]
  },
  {
   "cell_type": "code",
   "execution_count": 3,
   "metadata": {
    "collapsed": false
   },
   "outputs": [
    {
     "name": "stdout",
     "output_type": "stream",
     "text": [
      "playing midi\n"
     ]
    }
   ],
   "source": [
    "fs_play('midi/schuim-1.mid', 2)"
   ]
  },
  {
   "cell_type": "code",
   "execution_count": 12,
   "metadata": {
    "collapsed": true
   },
   "outputs": [],
   "source": [
    "def fs_port():\n",
    "    ret = os.popen('aconnect -o').read()\n",
    "    return ret"
   ]
  },
  {
   "cell_type": "markdown",
   "metadata": {},
   "source": [
    "Open output"
   ]
  },
  {
   "cell_type": "code",
   "execution_count": 20,
   "metadata": {
    "collapsed": false
   },
   "outputs": [
    {
     "name": "stdout",
     "output_type": "stream",
     "text": [
      "['Midi Through Port-0', 'Synth input port (30000:0)']\n",
      "<open output 'Synth input port (30000:0)' (PortMidi/ALSA)>\n"
     ]
    }
   ],
   "source": [
    "output = None\n",
    "print(mido.get_output_names())\n",
    "for o in mido.get_output_names():\n",
    "    if 'Synth input' in o:\n",
    "        output = mido.open_output(o)\n",
    "print(output)"
   ]
  },
  {
   "cell_type": "markdown",
   "metadata": {},
   "source": [
    "#### Events, Notes, and Chords"
   ]
  },
  {
   "cell_type": "code",
   "execution_count": 5,
   "metadata": {
    "collapsed": false
   },
   "outputs": [],
   "source": [
    "class Event:\n",
    "    ''' An event lasts for a duration of time and contians a note, multiple notes (chord), or nothing (rest)\n",
    "    it also contains information about the number of occurences other events will happen after it '''\n",
    "    # Note(s) of the event\n",
    "    notes = []\n",
    "    # Duration of the event\n",
    "    dur = 1.0\n",
    "    # Keeps track of the number of times the other events follow this event\n",
    "    next_count = {}\n",
    "    \n",
    "    def __init__(self, notes, dur=1.0):\n",
    "        self.notes = notes\n",
    "        self.dur = dur\n",
    "    \n",
    "    def add_next(self, event):\n",
    "        if event not in self.next_count:\n",
    "            self.next_count[event] = 1\n",
    "        else:\n",
    "            self.next_count[event] += 1\n",
    "            \n",
    "    def choose_next(self):\n",
    "        ''' Chooses the next event based on the observation of events having followed this event in the past '''\n",
    "        s = sum(self.next_count.values())\n",
    "        # Choose a next event\n",
    "        i = 0\n",
    "        sl = list(sorted(self.next_count.items(), key=lambda x: x[1], reverse=True))\n",
    "        n = sl[i]\n",
    "        while np.random.rand() > n[1]/s:\n",
    "            i += 1\n",
    "            if i > len(sl)-1:\n",
    "                n = sl[0]\n",
    "                break\n",
    "            n = sl[i]\n",
    "        return n[0]\n",
    "    \n",
    "    def hash(self):\n",
    "        ''' Because events will be stored in a dict. Hashes by concatinating duration with notes '''\n",
    "        if len(self.notes) == 0:\n",
    "            return str(int(self.dur*1000))\n",
    "        else:\n",
    "            h = ''.join([ str(n.val) for n in\n",
    "                            sorted(self.notes, key=lambda x: x.val) ])\n",
    "            return h+str(int(self.dur*1000))\n",
    "        #return sum([ i*127 for i in self.notes ])# + self.dur*127\n",
    "    \n",
    "    def __repr__(self):\n",
    "        return '< Event {} >'.format(self.hash())\n",
    "    \n",
    "class Note:\n",
    "    val = 0\n",
    "    vel = 127\n",
    "    \n",
    "    def __init__(self, val, vel=127):\n",
    "        self.val = int(val)\n",
    "        self.vel = int(vel)\n",
    "        self.next_count = {}\n",
    "        \n",
    "    def __repr__(self):\n",
    "        return '< Note {} >'.format(self.val)\n",
    "    "
   ]
  },
  {
   "cell_type": "markdown",
   "metadata": {},
   "source": [
    "### Parse midi"
   ]
  },
  {
   "cell_type": "code",
   "execution_count": 21,
   "metadata": {
    "collapsed": false
   },
   "outputs": [],
   "source": [
    "events = {}\n",
    "c_events = []\n",
    "p_events = []\n",
    "c_notes = []\n",
    "p_notes = []\n",
    "for msg in mido.MidiFile('midi/schub_d960_1.mid'):\n",
    "    if not isinstance(msg, mido.MetaMessage):\n",
    "        #print(msg)\n",
    "        #output.send(msg)\n",
    "        if msg.time == 0.0:\n",
    "            if msg.type == 'note_on':\n",
    "                c_notes.append(Note(msg.note, vel=msg.velocity))\n",
    "        else:\n",
    "            for n in c_notes:\n",
    "                e = Event([n], msg.time)\n",
    "                c_events.append(e)\n",
    "                if e.hash() not in events:\n",
    "                    events[e.hash()] = e\n",
    "                    \n",
    "                if len(p_events) > 0:\n",
    "                    for pe in p_events:\n",
    "                        pe.add_next(e)\n",
    "                        \n",
    "            if len(c_events) > 0:\n",
    "                p_events = c_events\n",
    "                c_events = []\n",
    "            c_notes = []"
   ]
  },
  {
   "cell_type": "code",
   "execution_count": 22,
   "metadata": {
    "collapsed": false,
    "scrolled": false
   },
   "outputs": [
    {
     "name": "stdout",
     "output_type": "stream",
     "text": [
      "4325\n",
      "62432\n",
      "< Event 6925 >\n",
      "< Event 6110 >\n",
      "< Event 41128 >\n",
      "< Event 58196 >\n",
      "< Event 41128 >\n",
      "< Event 41128 >\n",
      "< Event 53203 >\n",
      "< Event 41128 >\n",
      "< Event 41128 >\n",
      "< Event 53185 >\n",
      "< Event 4925 >\n",
      "< Event 41128 >\n",
      "< Event 41128 >\n",
      "< Event 486 >\n",
      "< Event 554 >\n",
      "< Event 41128 >\n",
      "< Event 6124 >\n",
      "< Event 66306 >\n",
      "< Event 41128 >\n",
      "< Event 413 >\n"
     ]
    }
   ],
   "source": [
    "print(len(events))\n",
    "print(len(events['43121'].next_count))\n",
    "for i in range(20):\n",
    "    print(events['43121'].choose_next())"
   ]
  },
  {
   "cell_type": "markdown",
   "metadata": {},
   "source": [
    "### Make a song"
   ]
  },
  {
   "cell_type": "code",
   "execution_count": null,
   "metadata": {
    "collapsed": false,
    "scrolled": true
   },
   "outputs": [
    {
     "name": "stdout",
     "output_type": "stream",
     "text": [
      "< Event 43121 >\n",
      "< Event 43121 >\n",
      "< Event 50196 >\n",
      "< Event 50196 >\n",
      "< Event 627 >\n",
      "< Event 627 >\n",
      "< Event 41128 >\n",
      "< Event 41128 >\n",
      "< Event 64225 >\n",
      "< Event 64225 >\n",
      "< Event 41128 >\n",
      "< Event 41128 >\n",
      "< Event 58125 >\n",
      "< Event 58125 >\n",
      "< Event 53369 >\n",
      "< Event 53369 >\n",
      "< Event 5211 >\n",
      "< Event 5211 >\n",
      "< Event 41128 >\n",
      "< Event 41128 >\n",
      "< Event 41128 >\n",
      "< Event 41128 >\n",
      "< Event 7430 >\n",
      "< Event 7430 >\n",
      "< Event 75163 >\n",
      "< Event 75163 >\n",
      "< Event 57131 >\n",
      "< Event 57131 >\n",
      "< Event 41128 >\n",
      "< Event 41128 >\n",
      "< Event 2928 >\n",
      "< Event 2928 >\n",
      "< Event 8042 >\n",
      "< Event 8042 >\n",
      "< Event 41128 >\n",
      "< Event 41128 >\n",
      "< Event 41128 >\n",
      "< Event 41128 >\n",
      "< Event 631050 >\n",
      "< Event 631050 >\n",
      "< Event 41128 >\n",
      "< Event 41128 >\n",
      "< Event 9128 >\n",
      "< Event 9128 >\n",
      "< Event 41128 >"
     ]
    }
   ],
   "source": [
    "c_event = events['43121']\n",
    "num_events = 0\n",
    "while num_events < 100:\n",
    "    num_events += 1\n",
    "    print(c_event)\n",
    "    for n in c_event.notes:\n",
    "        # Turn on a note\n",
    "        msg = mido.Message('note_on', note=n.val, velocity=64)\n",
    "        output.send(msg)\n",
    "    print(c_event)\n",
    "    time.sleep(1.0)\n",
    "    \n",
    "    for n in c_event.notes:\n",
    "        # Turn off a note\n",
    "        msg = mido.Message('note_off', note=n.val, velocity=n.vel)\n",
    "        output.send(msg)\n",
    "        \n",
    "    c_event = c_event.choose_next()\n",
    "    "
   ]
  },
  {
   "cell_type": "code",
   "execution_count": null,
   "metadata": {
    "collapsed": true
   },
   "outputs": [],
   "source": []
  }
 ],
 "metadata": {
  "kernelspec": {
   "display_name": "Python 3",
   "language": "python",
   "name": "python3"
  },
  "language_info": {
   "codemirror_mode": {
    "name": "ipython",
    "version": 3
   },
   "file_extension": ".py",
   "mimetype": "text/x-python",
   "name": "python",
   "nbconvert_exporter": "python",
   "pygments_lexer": "ipython3",
   "version": "3.5.0"
  }
 },
 "nbformat": 4,
 "nbformat_minor": 0
}
